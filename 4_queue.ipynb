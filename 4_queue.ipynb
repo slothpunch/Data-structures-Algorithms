{
 "cells": [
  {
   "cell_type": "markdown",
   "metadata": {},
   "source": [
    "Queue implementation in Python\n",
    "\n",
    "* list\n",
    "* collections.deque\n",
    "* queue.LifoQueue\n",
    "\n",
    "Queue - First in First out (FIFO)"
   ]
  },
  {
   "cell_type": "markdown",
   "metadata": {},
   "source": [
    "#### List"
   ]
  },
  {
   "cell_type": "code",
   "execution_count": 1,
   "metadata": {},
   "outputs": [
    {
     "data": {
      "text/plain": [
       "[135, 132.12, 131.1]"
      ]
     },
     "execution_count": 1,
     "metadata": {},
     "output_type": "execute_result"
    }
   ],
   "source": [
    "# list has a problem with dynamic arrays because the system needs to allocate when a list exceeds its capacity\n",
    "# list is not recommended as queue\n",
    "\n",
    "# .insert(index, value) add a value at a specific index  \n",
    "\n",
    "q = []\n",
    "q.insert(0, 131.10)\n",
    "q.insert(0, 132.12)\n",
    "q.insert(0, 135)\n",
    "\n",
    "q"
   ]
  },
  {
   "cell_type": "code",
   "execution_count": 7,
   "metadata": {},
   "outputs": [
    {
     "ename": "IndexError",
     "evalue": "pop from empty list",
     "output_type": "error",
     "traceback": [
      "\u001b[1;31m---------------------------------------------------------------------------\u001b[0m",
      "\u001b[1;31mIndexError\u001b[0m                                Traceback (most recent call last)",
      "\u001b[1;32m~\\AppData\\Local\\Temp\\ipykernel_19932\\2543957430.py\u001b[0m in \u001b[0;36m<module>\u001b[1;34m\u001b[0m\n\u001b[1;32m----> 1\u001b[1;33m \u001b[0mq\u001b[0m\u001b[1;33m.\u001b[0m\u001b[0mpop\u001b[0m\u001b[1;33m(\u001b[0m\u001b[1;33m)\u001b[0m\u001b[1;33m\u001b[0m\u001b[1;33m\u001b[0m\u001b[0m\n\u001b[0m",
      "\u001b[1;31mIndexError\u001b[0m: pop from empty list"
     ]
    }
   ],
   "source": [
    "q.pop()"
   ]
  },
  {
   "cell_type": "markdown",
   "metadata": {},
   "source": [
    "#### collections.deque\n",
    "\n",
    "https://docs.python.org/3/library/collections.html#collections.deque\n",
    "\n",
    "deque (double-ended queue): list-like container with fast appends and pops on either end\n",
    "\n",
    "Deques support thread-safe, memory efficient appends and pops from either side of the deque with approximately the same O(1) performance in either direction."
   ]
  },
  {
   "cell_type": "code",
   "execution_count": 29,
   "metadata": {},
   "outputs": [],
   "source": [
    "from collections import deque\n",
    "q = deque()\n",
    "# dir(stack)"
   ]
  },
  {
   "cell_type": "code",
   "execution_count": 30,
   "metadata": {},
   "outputs": [
    {
     "name": "stdout",
     "output_type": "stream",
     "text": [
      "25 15 5 "
     ]
    }
   ],
   "source": [
    "q.appendleft(5)\n",
    "q.appendleft(15)\n",
    "q.appendleft(25)\n",
    "\n",
    "# \\r means carriage return -> cursor goes at the begining \n",
    "# https://www.youtube.com/watch?v=k4Jbm3-Hpns\n",
    "for i in q:\n",
    "    # print('\\r{}'.format(i), end = '')\n",
    "    print('{}'.format(i), end = ' ')"
   ]
  },
  {
   "cell_type": "code",
   "execution_count": 14,
   "metadata": {},
   "outputs": [
    {
     "data": {
      "text/plain": [
       "5"
      ]
     },
     "execution_count": 14,
     "metadata": {},
     "output_type": "execute_result"
    }
   ],
   "source": [
    "q.pop()"
   ]
  },
  {
   "cell_type": "code",
   "execution_count": 15,
   "metadata": {},
   "outputs": [
    {
     "data": {
      "text/plain": [
       "15"
      ]
     },
     "execution_count": 15,
     "metadata": {},
     "output_type": "execute_result"
    }
   ],
   "source": [
    "q.pop()"
   ]
  },
  {
   "cell_type": "code",
   "execution_count": 31,
   "metadata": {},
   "outputs": [],
   "source": [
    "# insert, delete, is_empty, size \n",
    "class Queue:\n",
    "    def __init__(self):\n",
    "        self.buffer = deque()\n",
    "        \n",
    "    def enqueue(self, val):\n",
    "        return self.buffer.appendleft(val)\n",
    "    \n",
    "    def dequeue(self):\n",
    "        return self.buffer.pop()\n",
    "    \n",
    "    def is_empty(self):\n",
    "        return len(self.buffer) == 0\n",
    "    \n",
    "    def size(self):\n",
    "        return len(self.buffer)    "
   ]
  },
  {
   "cell_type": "code",
   "execution_count": 32,
   "metadata": {},
   "outputs": [],
   "source": [
    "pq = Queue()\n",
    "\n",
    "pq.enqueue({\n",
    "    'company': 'Wall Mart',\n",
    "    'timestamp': '15 apr, 11.01 AM',\n",
    "    'price': 131.10\n",
    "})\n",
    "pq.enqueue({\n",
    "    'company': 'Wall Mart',\n",
    "    'timestamp': '15 apr, 11.02 AM',\n",
    "    'price': 132\n",
    "})\n",
    "pq.enqueue({\n",
    "    'company': 'Wall Mart',\n",
    "    'timestamp': '15 apr, 11.03 AM',\n",
    "    'price': 135\n",
    "})"
   ]
  },
  {
   "cell_type": "code",
   "execution_count": 35,
   "metadata": {},
   "outputs": [
    {
     "data": {
      "text/plain": [
       "deque([{'company': 'Wall Mart', 'timestamp': '15 apr, 11.03 AM', 'price': 135},\n",
       "       {'company': 'Wall Mart', 'timestamp': '15 apr, 11.02 AM', 'price': 132},\n",
       "       {'company': 'Wall Mart',\n",
       "        'timestamp': '15 apr, 11.01 AM',\n",
       "        'price': 131.1}])"
      ]
     },
     "execution_count": 35,
     "metadata": {},
     "output_type": "execute_result"
    }
   ],
   "source": [
    "pq.buffer"
   ]
  },
  {
   "cell_type": "code",
   "execution_count": 39,
   "metadata": {},
   "outputs": [
    {
     "data": {
      "text/plain": [
       "{'company': 'Wall Mart', 'timestamp': '15 apr, 11.03 AM', 'price': 135}"
      ]
     },
     "execution_count": 39,
     "metadata": {},
     "output_type": "execute_result"
    }
   ],
   "source": [
    "pq.dequeue()"
   ]
  },
  {
   "cell_type": "markdown",
   "metadata": {},
   "source": [
    "## Exercise\n",
    "\n",
    "https://github.com/codebasics/data-structures-algorithms-python/blob/master/data_structures/6_Queue/6_queue_exercise.md\n",
    "\n"
   ]
  },
  {
   "cell_type": "code",
   "execution_count": 62,
   "metadata": {},
   "outputs": [],
   "source": [
    "# insert, delete, is_empty, size \n",
    "class Queue:\n",
    "    def __init__(self):\n",
    "        self.buffer = deque()\n",
    "        \n",
    "    def enqueue(self, val):\n",
    "        return self.buffer.appendleft(val)\n",
    "    \n",
    "    def dequeue(self):\n",
    "        return self.buffer.pop()\n",
    "    \n",
    "    def is_empty(self):\n",
    "        return len(self.buffer) == 0\n",
    "    \n",
    "    def size(self):\n",
    "        return len(self.buffer)    \n",
    "    \n",
    "    def front(self):\n",
    "        return self.buffer[-1]"
   ]
  },
  {
   "cell_type": "markdown",
   "metadata": {},
   "source": [
    "1. \n",
    "For all exercises use Queue class implemented in main tutorial.\n",
    "\n",
    "1. Design a food ordering system where your python program will run two threads,\n",
    "\n",
    "* Place Order: This thread will be placing an order and inserting that into a queue. This thread places new order every 0.5 second. (hint: use time.sleep(0.5) function)\n",
    "\n",
    "* Serve Order: This thread will server the order. All you need to do is pop the order out of the queue and print it. This thread serves an order every 2 seconds. Also start this thread 1 second after place order thread is started.\n",
    "\n",
    "Use this video to get yourself familiar with multithreading in python\n",
    "\n",
    "Pass following list as an argument to place order thread,\n",
    "\n",
    "orders = ['pizza','samosa','pasta','biryani','burger']\n",
    "\n",
    "This problem is a producer,consumer problem where place_order thread is producing orders whereas server_order thread is consuming the food orders. Use Queue class implemented in a video tutorial."
   ]
  },
  {
   "cell_type": "code",
   "execution_count": 61,
   "metadata": {},
   "outputs": [
    {
     "name": "stdout",
     "output_type": "stream",
     "text": [
      "1. pizza order placed.\n"
     ]
    },
    {
     "name": "stdout",
     "output_type": "stream",
     "text": [
      "2. samosa order placed.\n",
      "1 order pizza is served.\n",
      "\n",
      "3. pasta order placed.\n",
      "4. biryani order placed.\n",
      "5. burger order placed.\n",
      "2 order samosa is served.\n",
      "\n",
      "3 order pasta is served.\n",
      "\n",
      "4 order biryani is served.\n",
      "\n",
      "5 order burger is served.\n",
      "\n"
     ]
    }
   ],
   "source": [
    "import time\n",
    "import threading\n",
    "\n",
    "orders = ['pizza','samosa','pasta','biryani','burger']\n",
    "pq = Queue()\n",
    "\n",
    "# Place order\n",
    "def place_order(orders):\n",
    "    for num, order in enumerate(orders):\n",
    "        pq.enqueue(order)\n",
    "        print(f'{num+1}. {order} order placed.')\n",
    "        time.sleep(0.5)\n",
    "\n",
    "# Serve order\n",
    "def serve_order():\n",
    "    time.sleep(1)\n",
    "    num = 1\n",
    "    while pq.size() != 0:\n",
    "        print(f'{num} order {pq.dequeue()} is served.\\n')\n",
    "        time.sleep(2)\n",
    "        num += 1\n",
    "    \n",
    "# For loop doesn't work in this case. Why?\n",
    "    # for num in range(pq.size()):\n",
    "    #     print(f'{num+1} order {pq.dequeue()} is served.\\n')\n",
    "    #     time.sleep(2)\n",
    "\n",
    "\n",
    "# place_order(orders)\n",
    "# time.sleep(1)\n",
    "# serve_order()\n",
    "\n",
    "t1 = threading.Thread(target = place_order, args = (orders,))\n",
    "t2 = threading.Thread(target = serve_order)\n",
    "\n",
    "t1.start()\n",
    "t2.start()"
   ]
  },
  {
   "cell_type": "markdown",
   "metadata": {},
   "source": [
    "2. Write a program to print binary numbers from 1 to 10 using Queue. Use Queue class implemented in main tutorial. Binary sequence should look like,\n",
    "\n",
    "-    1\n",
    "-    10\n",
    "-    11\n",
    "-    100\n",
    "-    101\n",
    "-    110\n",
    "-    111\n",
    "-    1000\n",
    "-    1001\n",
    "-    1010"
   ]
  },
  {
   "cell_type": "code",
   "execution_count": null,
   "metadata": {},
   "outputs": [],
   "source": [
    "#         1   10  11 - 1 2 3\n",
    "#  100  101  110 111 - 4 5 6 7\n",
    "# 1000 1001 1010     - 8 9 10"
   ]
  },
  {
   "cell_type": "code",
   "execution_count": 79,
   "metadata": {},
   "outputs": [
    {
     "name": "stdout",
     "output_type": "stream",
     "text": [
      "   1\n",
      " deque(['10', '1'])\n",
      " deque(['11', '10', '1'])\n",
      "after dequeue deque(['11', '10'])\n",
      "   10\n",
      " deque(['100', '11', '10'])\n",
      " deque(['101', '100', '11', '10'])\n",
      "after dequeue deque(['101', '100', '11'])\n",
      "   11\n",
      " deque(['110', '101', '100', '11'])\n",
      " deque(['111', '110', '101', '100', '11'])\n",
      "after dequeue deque(['111', '110', '101', '100'])\n",
      "   100\n",
      " deque(['1000', '111', '110', '101', '100'])\n",
      " deque(['1001', '1000', '111', '110', '101', '100'])\n",
      "after dequeue deque(['1001', '1000', '111', '110', '101'])\n",
      "   101\n",
      " deque(['1010', '1001', '1000', '111', '110', '101'])\n",
      " deque(['1011', '1010', '1001', '1000', '111', '110', '101'])\n",
      "after dequeue deque(['1011', '1010', '1001', '1000', '111', '110'])\n",
      "   110\n",
      " deque(['1100', '1011', '1010', '1001', '1000', '111', '110'])\n",
      " deque(['1101', '1100', '1011', '1010', '1001', '1000', '111', '110'])\n",
      "after dequeue deque(['1101', '1100', '1011', '1010', '1001', '1000', '111'])\n",
      "   111\n",
      " deque(['1110', '1101', '1100', '1011', '1010', '1001', '1000', '111'])\n",
      " deque(['1111', '1110', '1101', '1100', '1011', '1010', '1001', '1000', '111'])\n",
      "after dequeue deque(['1111', '1110', '1101', '1100', '1011', '1010', '1001', '1000'])\n",
      "   1000\n",
      " deque(['10000', '1111', '1110', '1101', '1100', '1011', '1010', '1001', '1000'])\n",
      " deque(['10001', '10000', '1111', '1110', '1101', '1100', '1011', '1010', '1001', '1000'])\n",
      "after dequeue deque(['10001', '10000', '1111', '1110', '1101', '1100', '1011', '1010', '1001'])\n",
      "   1001\n",
      " deque(['10010', '10001', '10000', '1111', '1110', '1101', '1100', '1011', '1010', '1001'])\n",
      " deque(['10011', '10010', '10001', '10000', '1111', '1110', '1101', '1100', '1011', '1010', '1001'])\n",
      "after dequeue deque(['10011', '10010', '10001', '10000', '1111', '1110', '1101', '1100', '1011', '1010'])\n",
      "   1010\n",
      " deque(['10100', '10011', '10010', '10001', '10000', '1111', '1110', '1101', '1100', '1011', '1010'])\n",
      " deque(['10101', '10100', '10011', '10010', '10001', '10000', '1111', '1110', '1101', '1100', '1011', '1010'])\n",
      "after dequeue deque(['10101', '10100', '10011', '10010', '10001', '10000', '1111', '1110', '1101', '1100', '1011'])\n"
     ]
    }
   ],
   "source": [
    "numbers_queue = Queue()\n",
    "numbers_queue.enqueue('1')\n",
    "\n",
    "for i in range(10):\n",
    "    front = numbers_queue.front()\n",
    "    print('  ', front)\n",
    "    numbers_queue.enqueue(front + '0')\n",
    "    print('', numbers_queue.buffer)\n",
    "    numbers_queue.enqueue(front + '1')\n",
    "    print('', numbers_queue.buffer)\n",
    "    \n",
    "    numbers_queue.dequeue()\n",
    "    print('after dequeue', numbers_queue.buffer)"
   ]
  },
  {
   "cell_type": "code",
   "execution_count": null,
   "metadata": {},
   "outputs": [],
   "source": []
  },
  {
   "cell_type": "code",
   "execution_count": null,
   "metadata": {},
   "outputs": [],
   "source": []
  },
  {
   "cell_type": "code",
   "execution_count": null,
   "metadata": {},
   "outputs": [],
   "source": []
  }
 ],
 "metadata": {
  "kernelspec": {
   "display_name": "Python 3",
   "language": "python",
   "name": "python3"
  },
  "language_info": {
   "codemirror_mode": {
    "name": "ipython",
    "version": 3
   },
   "file_extension": ".py",
   "mimetype": "text/x-python",
   "name": "python",
   "nbconvert_exporter": "python",
   "pygments_lexer": "ipython3",
   "version": "3.9.4"
  },
  "orig_nbformat": 4
 },
 "nbformat": 4,
 "nbformat_minor": 2
}
