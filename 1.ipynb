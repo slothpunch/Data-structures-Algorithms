{
 "cells": [
  {
   "cell_type": "code",
   "execution_count": 1,
   "metadata": {},
   "outputs": [],
   "source": [
    "class Node():\n",
    "    # constructor\n",
    "    def __init__(self, val, left = None, right = None):\n",
    "        self.val = val\n",
    "        self.left = left\n",
    "        self.right = right\n",
    "        \n",
    "        print(self.val, self.left, self.right)\n",
    "\n",
    "class Solution():\n",
    "    # A single leading underscore (_) in front of a variable/function/method means that these objects are used internally.\n",
    "    def _isValidBSTHelper(self, n, low, high):\n",
    "        return True\n",
    "    \n",
    "    def isValidBST(self, n):\n",
    "        return self._isValidBSTHelper(n, float('-inf'), float('inf'))\n"
   ]
  },
  {
   "cell_type": "code",
   "execution_count": null,
   "metadata": {},
   "outputs": [],
   "source": [
    "node = Node(5)\n",
    "node.right = Node(4)\n",
    "node.left = Node(6)\n",
    "print(Solution().isValidBST(node))\n"
   ]
  },
  {
   "cell_type": "code",
   "execution_count": null,
   "metadata": {},
   "outputs": [],
   "source": []
  },
  {
   "cell_type": "code",
   "execution_count": null,
   "metadata": {},
   "outputs": [],
   "source": []
  }
 ],
 "metadata": {
  "kernelspec": {
   "display_name": "Python 3.9.4 64-bit",
   "language": "python",
   "name": "python3"
  },
  "language_info": {
   "codemirror_mode": {
    "name": "ipython",
    "version": 3
   },
   "file_extension": ".py",
   "mimetype": "text/x-python",
   "name": "python",
   "nbconvert_exporter": "python",
   "pygments_lexer": "ipython3",
   "version": "3.9.4"
  },
  "orig_nbformat": 4,
  "vscode": {
   "interpreter": {
    "hash": "0e0c7d701cb840bf41a14b0f89bd5b8a7d82b7466c6796324f09138ca0de8ac2"
   }
  }
 },
 "nbformat": 4,
 "nbformat_minor": 2
}
