{
 "cells": [
  {
   "cell_type": "code",
   "execution_count": 1,
   "metadata": {},
   "outputs": [],
   "source": [
    "# Stack - Last in First out (LIFO)\n",
    "# Push/Pop element: O(1) \n",
    "# Search element by value: O(n)\n",
    "\n",
    "# Use cases for stack: Undo (Ctrl + z) functionality\n",
    "\n"
   ]
  },
  {
   "cell_type": "markdown",
   "metadata": {},
   "source": [
    "Stack implementation in Python\n",
    "\n",
    "* list\n",
    "* collections.deque\n",
    "* queue.LifoQueue\n"
   ]
  },
  {
   "cell_type": "markdown",
   "metadata": {},
   "source": [
    "#### List"
   ]
  },
  {
   "cell_type": "code",
   "execution_count": 1,
   "metadata": {},
   "outputs": [],
   "source": [
    "from collections import deque\n",
    "stack = deque()"
   ]
  },
  {
   "cell_type": "code",
   "execution_count": 3,
   "metadata": {},
   "outputs": [],
   "source": [
    "# push, pop, peek, is_empty, len \n",
    "class Stack():\n",
    "    def __init__(self):\n",
    "        self.container = deque()\n",
    "        \n",
    "    def push(self, val):\n",
    "        return self.container.append(val)\n",
    "\n",
    "    def pop(self):\n",
    "        return self.container.pop()\n",
    "    \n",
    "    def peek(self):\n",
    "        return self.container[-1]\n",
    "    \n",
    "    def is_empty(self):\n",
    "        return len(self.container) == 0\n",
    "    \n",
    "    def size(self):\n",
    "        return len(self.container)"
   ]
  },
  {
   "cell_type": "code",
   "execution_count": 25,
   "metadata": {},
   "outputs": [
    {
     "data": {
      "text/plain": [
       "1"
      ]
     },
     "execution_count": 25,
     "metadata": {},
     "output_type": "execute_result"
    }
   ],
   "source": [
    "s = Stack()\n",
    "s.push('test')\n",
    "s.peek()\n",
    "s.size()"
   ]
  },
  {
   "cell_type": "code",
   "execution_count": 21,
   "metadata": {},
   "outputs": [
    {
     "data": {
      "text/plain": [
       "5"
      ]
     },
     "execution_count": 21,
     "metadata": {},
     "output_type": "execute_result"
    }
   ],
   "source": [
    "s = Stack()\n",
    "s.push(5)\n",
    "s.peek() # DOESN't REMOVE an element "
   ]
  },
  {
   "cell_type": "code",
   "execution_count": 10,
   "metadata": {},
   "outputs": [
    {
     "data": {
      "text/plain": [
       "False"
      ]
     },
     "execution_count": 10,
     "metadata": {},
     "output_type": "execute_result"
    }
   ],
   "source": [
    "s.is_empty()"
   ]
  },
  {
   "cell_type": "code",
   "execution_count": 11,
   "metadata": {},
   "outputs": [
    {
     "data": {
      "text/plain": [
       "1"
      ]
     },
     "execution_count": 11,
     "metadata": {},
     "output_type": "execute_result"
    }
   ],
   "source": [
    "s.size()"
   ]
  },
  {
   "cell_type": "markdown",
   "metadata": {},
   "source": [
    "## Exercise\n",
    "\n",
    "https://github.com/codebasics/data-structures-algorithms-python/blob/master/data_structures/5_Stack/5_stack_exercise.md\n",
    "\n"
   ]
  },
  {
   "cell_type": "code",
   "execution_count": 32,
   "metadata": {},
   "outputs": [
    {
     "data": {
      "text/plain": [
       "'91-DIVOC ereuqnoc lliw eW'"
      ]
     },
     "execution_count": 32,
     "metadata": {},
     "output_type": "execute_result"
    }
   ],
   "source": [
    "# 1. Write a function in python that can reverse a string using stack data structure. \n",
    "# Use Stack class from the tutorial.\n",
    "# reverse_string(\"We will conquere COVID-19\") should return \"91-DIVOC ereuqnoc lliw eW\"\n",
    "\n",
    "string = \"We will conquere COVID-19\"\n",
    "\n",
    "def reverse_string(str):\n",
    "    s = Stack()\n",
    "    \n",
    "    for char in str:\n",
    "        s.push(char)\n",
    "    \n",
    "    reversed_str = ''\n",
    "    \n",
    "    while s.size() != 0:\n",
    "        reversed_str += s.pop()\n",
    "    \n",
    "    return reversed_str\n",
    "\n",
    "reverse_string(string)"
   ]
  },
  {
   "cell_type": "code",
   "execution_count": 73,
   "metadata": {},
   "outputs": [
    {
     "data": {
      "text/plain": [
       "'91-DIVOC ereuqnoc lliw eW'"
      ]
     },
     "execution_count": 73,
     "metadata": {},
     "output_type": "execute_result"
    }
   ],
   "source": [
    "# Without using it \n",
    "string[::-1]"
   ]
  },
  {
   "cell_type": "code",
   "execution_count": null,
   "metadata": {},
   "outputs": [],
   "source": [
    "# 2. Write a function in python that checks if paranthesis in the string are balanced or not. \n",
    "# Possible parantheses are \"{}',\"()\" or \"[]\". Use Stack class from the tutorial.\n",
    "\n",
    "# is_balanced(\"({a+b})\")     --> True\n",
    "# is_balanced(\"))((a+b}{\")   --> False\n",
    "# is_balanced(\"((a+b))\")     --> True\n",
    "# is_balanced(\"))\")          --> False\n",
    "# is_balanced(\"[a+b]*(x+2y)*{gg+kk}\") --> True\n",
    "\n",
    "\n",
    "\n"
   ]
  },
  {
   "cell_type": "code",
   "execution_count": 103,
   "metadata": {},
   "outputs": [],
   "source": [
    "# 2. Write a function in python that checks if paranthesis in the string are balanced or not. \n",
    "# Possible parantheses are \"{}',\"()\" or \"[]\". Use Stack class from the tutorial.\n",
    "\n",
    "# is_balanced(\"({a+b})\")     --> True\n",
    "# is_balanced(\"))((a+b}{\")   --> False\n",
    "# is_balanced(\"((a+b))\")     --> True\n",
    "# is_balanced(\"))\")          --> False\n",
    "# is_balanced(\"[a+b]*(x+2y)*{gg+kk}\") --> True\n",
    "\n",
    "def is_match(ch1, ch2):\n",
    "    match_dict = {\n",
    "        ')' : '(',\n",
    "        '}' : '{',\n",
    "        ']' : '['\n",
    "    }\n",
    "    return match_dict[ch1] == ch2\n",
    "\n",
    "def is_balanced(s):\n",
    "    stack = Stack()\n",
    "    for ch in s:\n",
    "        if ch == '(' or ch == '{' or ch == '[':\n",
    "            stack.push(ch)\n",
    "        if ch == ')' or ch == '}' or ch == ']':\n",
    "            if stack.size() == 0:\n",
    "                return False \n",
    "            if not is_match(ch, stack.pop()): # ( { [ <- to correctly close all the parenthesis, the following order is neede: ], }, ).\n",
    "                return False\n",
    "\n",
    "    return stack.size() == 0"
   ]
  },
  {
   "cell_type": "code",
   "execution_count": 105,
   "metadata": {},
   "outputs": [
    {
     "name": "stdout",
     "output_type": "stream",
     "text": [
      "True False True False True\n"
     ]
    }
   ],
   "source": [
    "print(is_balanced(\"({a+b})\")     \n",
    ",is_balanced(\"))((a+b}{\")   \n",
    ",is_balanced(\"((a+b))\")     \n",
    ",is_balanced(\"))\")          \n",
    ",is_balanced(\"[a+b]*(x+2y)*{gg+kk}\")\n",
    ") "
   ]
  },
  {
   "cell_type": "code",
   "execution_count": null,
   "metadata": {},
   "outputs": [],
   "source": []
  },
  {
   "cell_type": "code",
   "execution_count": null,
   "metadata": {},
   "outputs": [],
   "source": []
  },
  {
   "cell_type": "code",
   "execution_count": null,
   "metadata": {},
   "outputs": [],
   "source": []
  }
 ],
 "metadata": {
  "kernelspec": {
   "display_name": "Python 3",
   "language": "python",
   "name": "python3"
  },
  "language_info": {
   "codemirror_mode": {
    "name": "ipython",
    "version": 3
   },
   "file_extension": ".py",
   "mimetype": "text/x-python",
   "name": "python",
   "nbconvert_exporter": "python",
   "pygments_lexer": "ipython3",
   "version": "3.9.4"
  },
  "orig_nbformat": 4
 },
 "nbformat": 4,
 "nbformat_minor": 2
}
