{
 "cells": [
  {
   "attachments": {},
   "cell_type": "markdown",
   "metadata": {},
   "source": [
    "1. Binary search -- (07 June 2023)"
   ]
  },
  {
   "cell_type": "code",
   "execution_count": 21,
   "metadata": {},
   "outputs": [
    {
     "name": "stdout",
     "output_type": "stream",
     "text": [
      "The desired number: 4\n",
      "5\n",
      "5\n",
      "0\n"
     ]
    }
   ],
   "source": [
    "# Import random to choose a random number from a list\n",
    "import random\n",
    "\n",
    "# Create a list\n",
    "num_list = [i for i in range(0, 11)]\n",
    "# Sort the list\n",
    "num_list.sort()\n",
    "# num_list.sort(reverse=True)\n",
    "\n",
    "# Define a number we want\n",
    "item = random.choice(num_list)\n",
    "print(f'The desired number: {item}')\n",
    "\n",
    "low = num_list[0]\n",
    "high = num_list[-1]\n",
    "# Take only the integer part\n",
    "mid = (low + high)//2 \n",
    "# print(mid)\n",
    "# Check if the desired number is in the middle \n",
    "guess = num_list[mid] \n",
    "# print(guess)\n",
    "\n",
    "# If the guessed number (the mid number) is lower than the desired one, then add 1 to mid\n",
    "if (mid != item) & (mid < item):\n",
    "    low = mid + 1\n",
    "# print(low)\n",
    "    "
   ]
  },
  {
   "cell_type": "code",
   "execution_count": 17,
   "metadata": {},
   "outputs": [
    {
     "name": "stdout",
     "output_type": "stream",
     "text": [
      "The desired number: 11\n",
      "============================ \n",
      "Number is not in the list. \n",
      "Executed time(s): 4\n"
     ]
    }
   ],
   "source": [
    "# Import random to choose a random number from a list\n",
    "import random\n",
    "\n",
    "# Create a list\n",
    "num_list = [i for i in range(0, 11)]\n",
    "# Sort the list\n",
    "num_list.sort()\n",
    "# num_list.sort(reverse=True)\n",
    "\n",
    "# Define a number we want\n",
    "item = 11\n",
    "# item = random.choice(num_list)\n",
    "print(f'The desired number: {item}')\n",
    "\n",
    "def binary_search(list_input, num):\n",
    "\n",
    "    low = list_input[0]\n",
    "    high = list_input[-1]\n",
    "    count = 0\n",
    "\n",
    "    while low <= high:\n",
    "        # Take only the integer part\n",
    "        mid = (low + high)//2 \n",
    "        # Check if the desired number is in the middle \n",
    "        guess = list_input[mid] \n",
    "                \n",
    "        if guess == num:\n",
    "            return print('===============================',\n",
    "                         f'\\nNumber found: {mid}',\n",
    "                         f'\\nExecuted time(s): {count}')\n",
    "        \n",
    "        # If the guessed number (the mid number) is higher than the desired one, then subtract 1 from mid\n",
    "        if guess > num:\n",
    "            high = mid - 1\n",
    "        \n",
    "        # If the guessed number (the mid number) is lower than the desired one, then add 1 to mid\n",
    "        if guess < num:\n",
    "            low = mid + 1\n",
    "        \n",
    "        count += 1\n",
    "        \n",
    "    # return None # The desired number is not in the list\n",
    "    return print('============================',\n",
    "                 f'\\nNumber is not in the list.',\n",
    "                 f'\\nExecuted time(s): {count}') # The desired number is not in the list\n",
    "\n",
    "binary_search(num_list, item)\n"
   ]
  },
  {
   "cell_type": "code",
   "execution_count": null,
   "metadata": {},
   "outputs": [],
   "source": []
  },
  {
   "cell_type": "code",
   "execution_count": null,
   "metadata": {},
   "outputs": [],
   "source": []
  },
  {
   "cell_type": "code",
   "execution_count": null,
   "metadata": {},
   "outputs": [],
   "source": []
  },
  {
   "cell_type": "code",
   "execution_count": null,
   "metadata": {},
   "outputs": [],
   "source": []
  },
  {
   "cell_type": "code",
   "execution_count": null,
   "metadata": {},
   "outputs": [],
   "source": []
  },
  {
   "cell_type": "code",
   "execution_count": null,
   "metadata": {},
   "outputs": [],
   "source": []
  },
  {
   "cell_type": "code",
   "execution_count": null,
   "metadata": {},
   "outputs": [],
   "source": []
  },
  {
   "cell_type": "code",
   "execution_count": null,
   "metadata": {},
   "outputs": [],
   "source": []
  },
  {
   "cell_type": "code",
   "execution_count": null,
   "metadata": {},
   "outputs": [],
   "source": []
  }
 ],
 "metadata": {
  "kernelspec": {
   "display_name": "Python 3",
   "language": "python",
   "name": "python3"
  },
  "language_info": {
   "codemirror_mode": {
    "name": "ipython",
    "version": 3
   },
   "file_extension": ".py",
   "mimetype": "text/x-python",
   "name": "python",
   "nbconvert_exporter": "python",
   "pygments_lexer": "ipython3",
   "version": "3.9.4"
  },
  "orig_nbformat": 4
 },
 "nbformat": 4,
 "nbformat_minor": 2
}
