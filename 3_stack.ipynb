{
 "cells": [
  {
   "cell_type": "code",
   "execution_count": null,
   "metadata": {},
   "outputs": [],
   "source": [
    "# Stack - Last in First out (LIFO)\n",
    "# Push/Pop element: O(1) \n",
    "# Search element by value: O(n)\n",
    "\n",
    "# Use cases for stack: Undo (Ctrl + z) functionality\n",
    "\n",
    "s = []\n",
    "s.append('https://www.cnn.com/')\n",
    "s.append('https://www.cnn.com/world')\n",
    "s.append('https://www.cnn.com/australia')\n",
    "s.append('https://www.cnn.com/korea')\n",
    "\n",
    "s.pop()\n"
   ]
  }
 ],
 "metadata": {
  "language_info": {
   "name": "python"
  },
  "orig_nbformat": 4
 },
 "nbformat": 4,
 "nbformat_minor": 2
}
